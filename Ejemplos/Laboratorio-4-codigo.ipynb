{
 "cells": [
  {
   "cell_type": "markdown",
   "metadata": {},
   "source": [
    "# Laboratorio 4"
   ]
  },
  {
   "cell_type": "markdown",
   "metadata": {},
   "source": [
    "## <font color=\"darkblue\">Dataset</font>"
   ]
  },
  {
   "cell_type": "markdown",
   "metadata": {},
   "source": [
    "<font color=\"darkblue\"><b>Carga del dataset (Movie Reviews) y análisis simple de su contenido"
   ]
  },
  {
   "cell_type": "code",
   "execution_count": 8,
   "metadata": {
    "collapsed": true
   },
   "outputs": [],
   "source": [
    "#Archivo con contenido de reviews de películas\n",
    "g = open('reviews.txt','r') \n",
    "reviews = list(map(lambda x:x[:-1],g.readlines()))\n",
    "g.close()\n",
    "\n",
    "#Archivo con las etiquetas (POSITIVE,NEGATIVE)\n",
    "g = open('labels.txt','r') \n",
    "labels = list(map(lambda x:x[:-1].upper(),g.readlines()))\n",
    "g.close()"
   ]
  },
  {
   "cell_type": "code",
   "execution_count": 9,
   "metadata": {
    "collapsed": false
   },
   "outputs": [
    {
     "name": "stdout",
     "output_type": "stream",
     "text": [
      "25000 25000\n"
     ]
    }
   ],
   "source": [
    "print len(reviews), len(labels)"
   ]
  },
  {
   "cell_type": "code",
   "execution_count": 10,
   "metadata": {
    "collapsed": false
   },
   "outputs": [
    {
     "name": "stdout",
     "output_type": "stream",
     "text": [
      "POSITIVE\n",
      "bromwell high is a cartoon comedy . it ran at the same time as some other programs about school life  such as  teachers  . my   years in the teaching profession lead me to believe that bromwell high  s satire is much closer to reality than is  teachers  . the scramble to survive financially  the insightful students who can see right through their pathetic teachers  pomp  the pettiness of the whole situation  all remind me of the schools i knew and their students . when i saw the episode in which a student repeatedly tried to burn down the school  i immediately recalled . . . . . . . . . at . . . . . . . . . . high . a classic line inspector i  m here to sack one of your teachers . student welcome to bromwell high . i expect that many adults of my age think that bromwell high is far fetched . what a pity that it isn  t   \n"
     ]
    }
   ],
   "source": [
    "print labels[0]\n",
    "print reviews[0]"
   ]
  },
  {
   "cell_type": "code",
   "execution_count": 11,
   "metadata": {
    "collapsed": true
   },
   "outputs": [],
   "source": [
    "#Función para imprimir algunos registros por su ID en la lista:\n",
    "def pretty_print_review_and_label(i):\n",
    "    print(labels[i] + \"\\t:\\t\" + reviews[i][:80] + \"...\")"
   ]
  },
  {
   "cell_type": "code",
   "execution_count": 12,
   "metadata": {
    "collapsed": false
   },
   "outputs": [
    {
     "name": "stdout",
     "output_type": "stream",
     "text": [
      "labels.txt \t : \t reviews.txt\n",
      "\n",
      "NEGATIVE\t:\tthis movie is terrible but it has some good effects .  ...\n",
      "POSITIVE\t:\tadrian pasdar is excellent is this film . he makes a fascinating woman .  ...\n"
     ]
    }
   ],
   "source": [
    "print(\"labels.txt \\t : \\t reviews.txt\\n\")\n",
    "pretty_print_review_and_label(2137)\n",
    "pretty_print_review_and_label(12816)\n",
    "#pretty_print_review_and_label(6267)\n",
    "#pretty_print_review_and_label(21934)\n",
    "#pretty_print_review_and_label(5297)\n",
    "#pretty_print_review_and_label(4998)"
   ]
  },
  {
   "cell_type": "markdown",
   "metadata": {},
   "source": [
    "### (P1) Vocabulary and Tokens <font color=\"darkred\">(3 puntos)</font>"
   ]
  },
  {
   "cell_type": "code",
   "execution_count": 18,
   "metadata": {
    "collapsed": false
   },
   "outputs": [
    {
     "data": {
      "text/plain": [
       "6347388"
      ]
     },
     "execution_count": 18,
     "metadata": {},
     "output_type": "execute_result"
    }
   ],
   "source": [
    "#Calcular la cantidad de Tokens total del dataset\n",
    "# Solución\n",
    "tokens = []\n",
    "for review in reviews:\n",
    "    tokens += review.split()\n",
    "num_tokens = len(tokens)\n",
    "num_tokens"
   ]
  },
  {
   "cell_type": "code",
   "execution_count": 19,
   "metadata": {
    "collapsed": false
   },
   "outputs": [
    {
     "data": {
      "text/plain": [
       "74073"
      ]
     },
     "execution_count": 19,
     "metadata": {},
     "output_type": "execute_result"
    }
   ],
   "source": [
    "#Calcular el tamaño del vocabulario (tokens únicos) del dataset\n",
    "# Solución\n",
    "size_vocabulary = len(set(tokens))\n",
    "size_vocabulary"
   ]
  },
  {
   "cell_type": "markdown",
   "metadata": {},
   "source": [
    "#### <hr>\n",
    "## <font color=\"darkblue\">Feature Extraction"
   ]
  },
  {
   "cell_type": "markdown",
   "metadata": {},
   "source": [
    "<font color=\"darkblue\"><b>Al finalizar esta sección, debemos contar con 5 vectores de características (X_1, X_2, X_3, X_4, X_5) con la misma cantidad de dimensiones."
   ]
  },
  {
   "cell_type": "code",
   "execution_count": 20,
   "metadata": {
    "collapsed": true
   },
   "outputs": [],
   "source": [
    "from collections import Counter\n",
    "import numpy as np"
   ]
  },
  {
   "cell_type": "markdown",
   "metadata": {},
   "source": [
    "### Vector 'y' (labels)"
   ]
  },
  {
   "cell_type": "code",
   "execution_count": 21,
   "metadata": {
    "collapsed": false
   },
   "outputs": [
    {
     "data": {
      "text/plain": [
       "(25000L,)"
      ]
     },
     "execution_count": 21,
     "metadata": {},
     "output_type": "execute_result"
    }
   ],
   "source": [
    "#Se transforma todas las etiquetas a valores numéricos (1,0)\n",
    "label2index = {}\n",
    "for i, label in enumerate(list(set([x for x in labels]))):\n",
    "    label2index[label] = i\n",
    "    \n",
    "y = np.array([label2index[x] for x in labels])\n",
    "y.shape"
   ]
  },
  {
   "cell_type": "markdown",
   "metadata": {},
   "source": [
    "### (P2) Matrix X#1: TF-IDF without pre-processing <font color=\"darkred\">(1 punto)</font>"
   ]
  },
  {
   "cell_type": "code",
   "execution_count": 24,
   "metadata": {
    "collapsed": false
   },
   "outputs": [],
   "source": [
    "#Obtener la matriz TF-IDF de los reviews\n",
    "#Sin pre-procesamiento\n",
    "from sklearn.feature_extraction.text import TfidfVectorizer\n",
    "# Solución\n",
    "X_1 = TfidfVectorizer().fit_transform(reviews)"
   ]
  },
  {
   "cell_type": "markdown",
   "metadata": {},
   "source": [
    "### (P3) Matrix X#2: TF-IDF with pre-processing <font color=\"darkred\">(2 puntos)</font>\n",
    "Pre-procesamiento: <b>Limpieza de stopwords</b>"
   ]
  },
  {
   "cell_type": "code",
   "execution_count": 25,
   "metadata": {
    "collapsed": false
   },
   "outputs": [
    {
     "name": "stdout",
     "output_type": "stream",
     "text": [
      "25000\n"
     ]
    }
   ],
   "source": [
    "# OPCIONAL: remover puntuación\n",
    "import string\n",
    "new_reviews = []\n",
    "for review in reviews:\n",
    "    new_reviews.append(review.translate(None, string.punctuation))\n",
    "print len(new_reviews)"
   ]
  },
  {
   "cell_type": "code",
   "execution_count": 27,
   "metadata": {
    "collapsed": false
   },
   "outputs": [],
   "source": [
    "#Obtener la matriz TF-IDF de los reviews\n",
    "from sklearn.feature_extraction.text import TfidfVectorizer\n",
    "# Solución\n",
    "X_2 = TfidfVectorizer(stop_words='english').fit_transform(new_reviews)"
   ]
  },
  {
   "cell_type": "markdown",
   "metadata": {},
   "source": [
    "### Matrix X#3: TF-IDF with Positive/Negative ratios filter\n",
    "Para este vector de características, se identifican los términos más discriminantes para cada clase de polaridad del review (positivo, negativo). Eso se hace a partir de un análisis de presencia y ausencia entre las clases (enfoque similar al TF-IDF pero no entre documentos, si no entre clases)"
   ]
  },
  {
   "cell_type": "code",
   "execution_count": 28,
   "metadata": {
    "collapsed": true
   },
   "outputs": [],
   "source": [
    "positive_counts = Counter()\n",
    "negative_counts = Counter()\n",
    "total_counts = Counter()"
   ]
  },
  {
   "cell_type": "code",
   "execution_count": 29,
   "metadata": {
    "collapsed": true
   },
   "outputs": [],
   "source": [
    "for review, label in zip(reviews, labels):\n",
    "    if label == 'POSITIVE':\n",
    "        positive_counts.update(set(review.split(\" \")))\n",
    "    else:\n",
    "        negative_counts.update(set(review.split(\" \")))\n",
    "total_counts.update(positive_counts)\n",
    "total_counts.update(negative_counts)"
   ]
  },
  {
   "cell_type": "code",
   "execution_count": 30,
   "metadata": {
    "collapsed": false
   },
   "outputs": [
    {
     "data": {
      "text/plain": [
       "[('', 12500),\n",
       " ('.', 12457),\n",
       " ('the', 12381),\n",
       " ('and', 12150),\n",
       " ('a', 12071),\n",
       " ('of', 11857),\n",
       " ('to', 11622),\n",
       " ('is', 11347),\n",
       " ('in', 11103),\n",
       " ('this', 11094)]"
      ]
     },
     "execution_count": 30,
     "metadata": {},
     "output_type": "execute_result"
    }
   ],
   "source": [
    "positive_counts.most_common(10)"
   ]
  },
  {
   "cell_type": "code",
   "execution_count": 31,
   "metadata": {
    "collapsed": false
   },
   "outputs": [
    {
     "data": {
      "text/plain": [
       "[('', 12500),\n",
       " ('.', 12465),\n",
       " ('the', 12412),\n",
       " ('a', 12103),\n",
       " ('and', 12014),\n",
       " ('of', 11870),\n",
       " ('to', 11853),\n",
       " ('this', 11545),\n",
       " ('it', 11191),\n",
       " ('is', 11080)]"
      ]
     },
     "execution_count": 31,
     "metadata": {},
     "output_type": "execute_result"
    }
   ],
   "source": [
    "negative_counts.most_common(10)"
   ]
  },
  {
   "cell_type": "code",
   "execution_count": 32,
   "metadata": {
    "collapsed": true
   },
   "outputs": [],
   "source": [
    "frequency_cutoff = 50\n",
    "pos_neg_ratios = Counter()\n",
    "for term, cnt in list(total_counts.most_common()):\n",
    "    if cnt >= frequency_cutoff: # common words only\n",
    "        pos_neg_ratios[term] = np.log((positive_counts[term]+0.0001) / \\\n",
    "                                      (negative_counts[term]+1))"
   ]
  },
  {
   "cell_type": "code",
   "execution_count": 33,
   "metadata": {
    "collapsed": false
   },
   "outputs": [
    {
     "data": {
      "text/plain": [
       "[('excellently', 2.9618324460147543),\n",
       " ('delightfully', 2.4638553682474789),\n",
       " ('flawless', 2.4336142325930474),\n",
       " ('matthau', 2.3513768444638052),\n",
       " ('superbly', 2.3025860020845417),\n",
       " ('perfection', 2.1731278387649584),\n",
       " ('captures', 2.0149035760976659),\n",
       " ('wonderfully', 2.0094833153917002),\n",
       " ('heartbreaking', 1.9616600685222318),\n",
       " ('masterful', 1.9195941740703844)]"
      ]
     },
     "execution_count": 33,
     "metadata": {},
     "output_type": "execute_result"
    }
   ],
   "source": [
    "pos_neg_ratios.most_common(10)"
   ]
  },
  {
   "cell_type": "code",
   "execution_count": 34,
   "metadata": {
    "collapsed": false
   },
   "outputs": [
    {
     "data": {
      "text/plain": [
       "[('boll', -4.0774374489053864),\n",
       " ('uwe', -4.042951272834217),\n",
       " ('dreck', -3.2451598004077842),\n",
       " ('stinker', -3.2088004893271944),\n",
       " ('unwatchable', -3.2088004893271944),\n",
       " ('incoherent', -3.0602541281637827),\n",
       " ('flimsy', -2.8525980971355276),\n",
       " ('unfunny', -2.6810148620698464),\n",
       " ('mst', -2.6779616348155488),\n",
       " ('yawn', -2.6390323299277534)]"
      ]
     },
     "execution_count": 34,
     "metadata": {},
     "output_type": "execute_result"
    }
   ],
   "source": [
    "list(reversed(pos_neg_ratios.most_common()))[:10]"
   ]
  },
  {
   "cell_type": "code",
   "execution_count": 35,
   "metadata": {
    "collapsed": true
   },
   "outputs": [],
   "source": [
    "polarity_cutoff = 0.9\n",
    "review_vocab = [x for x in pos_neg_ratios.keys() \\\n",
    "                if pos_neg_ratios[x] >= polarity_cutoff or \\\n",
    "                   pos_neg_ratios[x] <= -polarity_cutoff]"
   ]
  },
  {
   "cell_type": "markdown",
   "metadata": {},
   "source": [
    "<b>review_vocab</b> es el nuevo vector de términos filtrado con los más relevantes:"
   ]
  },
  {
   "cell_type": "code",
   "execution_count": 36,
   "metadata": {
    "collapsed": false
   },
   "outputs": [
    {
     "data": {
      "text/plain": [
       "734"
      ]
     },
     "execution_count": 36,
     "metadata": {},
     "output_type": "execute_result"
    }
   ],
   "source": [
    "len(review_vocab)"
   ]
  },
  {
   "cell_type": "code",
   "execution_count": 39,
   "metadata": {
    "collapsed": false
   },
   "outputs": [
    {
     "data": {
      "text/plain": [
       "(25000, 734)"
      ]
     },
     "execution_count": 39,
     "metadata": {},
     "output_type": "execute_result"
    }
   ],
   "source": [
    "from sklearn.feature_extraction.text import TfidfVectorizer\n",
    "X_3 = TfidfVectorizer(vocabulary=review_vocab).fit_transform(reviews)\n",
    "X_3.shape"
   ]
  },
  {
   "cell_type": "markdown",
   "metadata": {},
   "source": [
    "### (P4) Matrix X#4 and X#5: PCA or LSA <font color=\"darkred\">(3 puntos)</font>\n",
    "Debe aplicar reducción de dimensiones (con PCA o LSA) para las matrices X_1 y X_2\n",
    "El número de dimensiones que debe obtener debe ser el mismo que el del obtenido para el vector <b>X_3 (review_vocab)</b>"
   ]
  },
  {
   "cell_type": "code",
   "execution_count": 40,
   "metadata": {
    "collapsed": false
   },
   "outputs": [
    {
     "data": {
      "text/plain": [
       "(25000L, 734L)"
      ]
     },
     "execution_count": 40,
     "metadata": {},
     "output_type": "execute_result"
    }
   ],
   "source": [
    "# PCA o LSA sobre X_1\n",
    "# Solución\n",
    "from sklearn.decomposition import TruncatedSVD\n",
    "lsa = TruncatedSVD(n_components=734, n_iter=5)\n",
    "X_4 = lsa.fit_transform(X_1)\n",
    "X_4.shape"
   ]
  },
  {
   "cell_type": "code",
   "execution_count": 43,
   "metadata": {
    "collapsed": false
   },
   "outputs": [
    {
     "data": {
      "text/plain": [
       "(25000L, 734L)"
      ]
     },
     "execution_count": 43,
     "metadata": {},
     "output_type": "execute_result"
    }
   ],
   "source": [
    "# PCA o LSA sobre X_2\n",
    "# Solución\n",
    "from sklearn.decomposition import TruncatedSVD\n",
    "lsa = TruncatedSVD(n_components=734, n_iter=5)\n",
    "X_5 = lsa.fit_transform(X_2)\n",
    "X_5.shape"
   ]
  },
  {
   "cell_type": "markdown",
   "metadata": {},
   "source": [
    "### (P5) Matrix X#1 and X#2: recalculation with max_features <font color=\"darkred\">(1 punto)</font>\n",
    "Recalcule el vector TF-IDF, usando TfIdfVectorizer, considerando un número maximo de características (<b>max_features</b>) igual a la cantidad de dimensiones obtenido para el vector <b>X_3 (review_vocab)</b>"
   ]
  },
  {
   "cell_type": "code",
   "execution_count": 44,
   "metadata": {
    "collapsed": false
   },
   "outputs": [
    {
     "data": {
      "text/plain": [
       "(25000, 734)"
      ]
     },
     "execution_count": 44,
     "metadata": {},
     "output_type": "execute_result"
    }
   ],
   "source": [
    "# Solución\n",
    "from sklearn.feature_extraction.text import TfidfVectorizer\n",
    "X_1 = TfidfVectorizer(max_features = 734).fit_transform(reviews)\n",
    "X_1.shape"
   ]
  },
  {
   "cell_type": "code",
   "execution_count": 45,
   "metadata": {
    "collapsed": false
   },
   "outputs": [
    {
     "data": {
      "text/plain": [
       "(25000, 734)"
      ]
     },
     "execution_count": 45,
     "metadata": {},
     "output_type": "execute_result"
    }
   ],
   "source": [
    "# Solución\n",
    "X_2 = TfidfVectorizer(stop_words='english', max_features = 734).fit_transform(reviews)\n",
    "X_2.shape"
   ]
  },
  {
   "cell_type": "markdown",
   "metadata": {},
   "source": [
    "<hr>\n",
    "## <font color=\"darkblue\">Model Selection"
   ]
  },
  {
   "cell_type": "markdown",
   "metadata": {},
   "source": [
    "<font color=\"darkblue\"><b>En esta sección se compararán los resultados de clasificación usando los diferentes vectores</b>"
   ]
  },
  {
   "cell_type": "code",
   "execution_count": 46,
   "metadata": {
    "collapsed": true
   },
   "outputs": [],
   "source": [
    "#Ejemplos de algoritmos que pueden probar (pueden usar otros si desean)\n",
    "from sklearn.model_selection import cross_val_score\n",
    "from sklearn.svm import LinearSVC\n",
    "from sklearn.linear_model import SGDClassifier\n",
    "from sklearn.linear_model import Perceptron\n",
    "from sklearn.linear_model import PassiveAggressiveClassifier\n",
    "from sklearn.naive_bayes import BernoulliNB, MultinomialNB\n",
    "from sklearn.neighbors import KNeighborsClassifier\n",
    "from sklearn.neighbors import NearestCentroid\n",
    "from sklearn.ensemble import RandomForestClassifier"
   ]
  },
  {
   "cell_type": "markdown",
   "metadata": {},
   "source": [
    "<font color=\"darkblue\"><b>Función de ayuda para ejecutar un modelo y que se imprima el resultado de clasificación (accuracy) mediante validación cruzada (k_fold=5):"
   ]
  },
  {
   "cell_type": "code",
   "execution_count": 47,
   "metadata": {
    "collapsed": true
   },
   "outputs": [],
   "source": [
    "def run_model(clf, X, y):\n",
    "    scores = cross_val_score(clf, X, y, cv=5)\n",
    "    print(\"%s accuracy: %0.2f (+/- %0.2f)\" % \\\n",
    "          (str(clf.__class__).split('.')[-1].replace('>','').replace(\"'\",''), \n",
    "          scores.mean(), scores.std() * 2))"
   ]
  },
  {
   "cell_type": "code",
   "execution_count": 57,
   "metadata": {
    "collapsed": true
   },
   "outputs": [],
   "source": [
    "def run_models(X, y):\n",
    "    run_model(LinearSVC(), X, y)\n",
    "    run_model(SGDClassifier(), X, y)\n",
    "    run_model(Perceptron(), X, y)\n",
    "    run_model(PassiveAggressiveClassifier(), X, y)\n",
    "    run_model(BernoulliNB(), X, y)\n",
    "#     run_model(MultinomialNB(), X, y)\n",
    "#     run_model(KNeighborsClassifier(), X, y)\n",
    "    run_model(NearestCentroid(), X, y)\n",
    "#     run_model(RandomForestClassifier(n_estimators=50, max_depth=5), X, y)"
   ]
  },
  {
   "cell_type": "code",
   "execution_count": 50,
   "metadata": {
    "collapsed": false
   },
   "outputs": [
    {
     "name": "stdout",
     "output_type": "stream",
     "text": [
      "LinearSVC accuracy: 0.85 (+/- 0.01)\n",
      "SGDClassifier accuracy: 0.84 (+/- 0.01)\n",
      "Perceptron accuracy: 0.79 (+/- 0.05)\n",
      "PassiveAggressiveClassifier accuracy: 0.82 (+/- 0.03)\n",
      "BernoulliNB accuracy: 0.80 (+/- 0.01)\n",
      "MultinomialNB accuracy: 0.82 (+/- 0.01)\n",
      "KNeighborsClassifier accuracy: 0.68 (+/- 0.01)\n",
      "NearestCentroid accuracy: 0.74 (+/- 0.02)\n",
      "RandomForestClassifier accuracy: 0.80 (+/- 0.00)\n"
     ]
    }
   ],
   "source": [
    "run_models(X_1, y)"
   ]
  },
  {
   "cell_type": "markdown",
   "metadata": {},
   "source": [
    "### (P6) Split Train-Test <font color=\"darkred\">(2 puntos)"
   ]
  },
  {
   "cell_type": "code",
   "execution_count": 51,
   "metadata": {
    "collapsed": true
   },
   "outputs": [],
   "source": [
    "#Dividir el dataset en Train y Test en 0.75-0.25\n",
    "#Realizar esto para cada vector de características:\n",
    "# Solución\n",
    "from sklearn.model_selection import train_test_split\n",
    "X1_train, X1_test, y1_train, y1_test = train_test_split(X_1, y, test_size=0.25, random_state=1)\n",
    "X2_train, X2_test, y2_train, y2_test = train_test_split(X_2, y, test_size=0.25, random_state=1)\n",
    "X3_train, X3_test, y3_train, y3_test = train_test_split(X_3, y, test_size=0.25, random_state=1)\n",
    "X4_train, X4_test, y4_train, y4_test = train_test_split(X_4, y, test_size=0.25, random_state=1)\n",
    "X5_train, X5_test, y5_train, y5_test = train_test_split(X_5, y, test_size=0.25, random_state=1)"
   ]
  },
  {
   "cell_type": "markdown",
   "metadata": {},
   "source": [
    "### (P7) Cross-Validation (kfold=5) <font color=\"darkred\">(3 puntos)\n",
    "Ejecuten el cross-validation sobre los conjuntos de Train, elija cualquier algoritmo de clasificación (menos el SVM con kernel RBF, que será usado en la siguiente pregunta)"
   ]
  },
  {
   "cell_type": "code",
   "execution_count": 58,
   "metadata": {
    "collapsed": false
   },
   "outputs": [
    {
     "name": "stdout",
     "output_type": "stream",
     "text": [
      "X1:\n",
      "LinearSVC accuracy: 0.85 (+/- 0.02)\n",
      "SGDClassifier accuracy: 0.84 (+/- 0.02)\n",
      "Perceptron accuracy: 0.79 (+/- 0.07)\n",
      "PassiveAggressiveClassifier accuracy: 0.82 (+/- 0.04)\n",
      "BernoulliNB accuracy: 0.80 (+/- 0.01)\n",
      "NearestCentroid accuracy: 0.75 (+/- 0.02)\n",
      "X2:\n",
      "LinearSVC accuracy: 0.84 (+/- 0.01)\n",
      "SGDClassifier accuracy: 0.84 (+/- 0.01)\n",
      "Perceptron accuracy: 0.78 (+/- 0.02)\n",
      "PassiveAggressiveClassifier accuracy: 0.82 (+/- 0.01)\n",
      "BernoulliNB accuracy: 0.82 (+/- 0.01)\n",
      "NearestCentroid accuracy: 0.78 (+/- 0.01)\n",
      "X3:\n",
      "LinearSVC accuracy: 0.85 (+/- 0.01)\n",
      "SGDClassifier accuracy: 0.85 (+/- 0.01)\n",
      "Perceptron accuracy: 0.79 (+/- 0.02)\n",
      "PassiveAggressiveClassifier accuracy: 0.83 (+/- 0.01)\n",
      "BernoulliNB accuracy: 0.85 (+/- 0.01)\n",
      "NearestCentroid accuracy: 0.81 (+/- 0.00)\n",
      "X4:\n",
      "LinearSVC accuracy: 0.88 (+/- 0.01)\n",
      "SGDClassifier accuracy: 0.87 (+/- 0.03)\n",
      "Perceptron accuracy: 0.77 (+/- 0.15)\n",
      "PassiveAggressiveClassifier accuracy: 0.88 (+/- 0.02)\n",
      "BernoulliNB accuracy: 0.77 (+/- 0.01)\n",
      "NearestCentroid accuracy: 0.76 (+/- 0.01)\n",
      "X5:\n",
      "LinearSVC accuracy: 0.88 (+/- 0.01)\n",
      "SGDClassifier accuracy: 0.87 (+/- 0.01)\n",
      "Perceptron accuracy: 0.79 (+/- 0.08)\n",
      "PassiveAggressiveClassifier accuracy: 0.86 (+/- 0.03)\n",
      "BernoulliNB accuracy: 0.77 (+/- 0.01)\n",
      "NearestCentroid accuracy: 0.77 (+/- 0.01)\n"
     ]
    }
   ],
   "source": [
    "#completar codigo\n",
    "# Solución\n",
    "print('X1:')\n",
    "run_models(X1_train, y1_train)\n",
    "print('X2:')\n",
    "run_models(X2_train, y2_train)\n",
    "print('X3:')\n",
    "run_models(X3_train, y3_train)\n",
    "print('X4:')\n",
    "run_models(X4_train, y4_train)\n",
    "print('X5:')\n",
    "run_models(X5_train, y5_train)"
   ]
  },
  {
   "cell_type": "markdown",
   "metadata": {},
   "source": [
    "Identifique los 5 mejores resultados de Vector-Algoritmo, y lístelos (manualmente):"
   ]
  },
  {
   "cell_type": "code",
   "execution_count": null,
   "metadata": {
    "collapsed": true
   },
   "outputs": [],
   "source": [
    "# Solución\n",
    "# X4 - LinearSVC accuracy: 0.88 (+/- 0.01)\n",
    "# X5 - LinearSVC accuracy: 0.88 (+/- 0.01)\n",
    "# X4 - PassiveAggressiveClassifier accuracy: 0.88 (+/- 0.02)\n",
    "# X4 - SGDClassifier accuracy: 0.87 (+/- 0.03)\n",
    "# X5 - SGDClassifier accuracy: 0.87 (+/- 0.01)"
   ]
  },
  {
   "cell_type": "markdown",
   "metadata": {},
   "source": [
    "### (P8) Test (top5 models) <font color=\"darkred\">(2.5 puntos)"
   ]
  },
  {
   "cell_type": "markdown",
   "metadata": {},
   "source": [
    "Usando los 5 mejores resultados de Vector-Algoritmo, <b>reentrene su modelo sobre el subconjunto Train total (sin cross-validation) y calcule el accuracy sobre el conjunto de Test</b> respectivo."
   ]
  },
  {
   "cell_type": "code",
   "execution_count": 61,
   "metadata": {
    "collapsed": false
   },
   "outputs": [
    {
     "name": "stdout",
     "output_type": "stream",
     "text": [
      "Accuracy: 0.88272\n",
      "Accuracy: 0.88096\n",
      "Accuracy: 0.87904\n",
      "Accuracy: 0.88208\n",
      "Accuracy: 0.86752\n"
     ]
    }
   ],
   "source": [
    "#completar codigo\n",
    "# Solución\n",
    "model = LinearSVC()\n",
    "model.fit(X4_train, y4_train)\n",
    "print('Accuracy: ' + str(model.score(X4_test, y4_test)))\n",
    "\n",
    "model = LinearSVC()\n",
    "model.fit(X5_train, y5_train)\n",
    "print('Accuracy: ' + str(model.score(X5_test, y5_test)))\n",
    "\n",
    "model = PassiveAggressiveClassifier()\n",
    "model.fit(X4_train, y4_train)\n",
    "print('Accuracy: ' + str(model.score(X4_test, y4_test)))\n",
    "\n",
    "model = SGDClassifier()\n",
    "model.fit(X4_train, y4_train)\n",
    "print('Accuracy: ' + str(model.score(X4_test, y4_test)))\n",
    "\n",
    "model = SGDClassifier()\n",
    "model.fit(X5_train, y5_train)\n",
    "print('Accuracy: ' + str(model.score(X5_test, y5_test)))"
   ]
  },
  {
   "cell_type": "markdown",
   "metadata": {},
   "source": [
    "Identifique el mejor resultado y comente brevemente: ¿Por qué cree que dicho Vector-Algoritmo obtuvo el mejor resultado?"
   ]
  },
  {
   "cell_type": "code",
   "execution_count": 62,
   "metadata": {
    "collapsed": true
   },
   "outputs": [],
   "source": [
    "# LinearSVC con el vector X4\n",
    "# A criterio según resultado"
   ]
  },
  {
   "cell_type": "markdown",
   "metadata": {},
   "source": [
    "### (P9) SVM and GridSearchCV <font color=\"darkred\">(2.5 puntos)\n",
    "Optimizar los parámetros <b>(gamma y C)</b> de un algoritmo de clasificación <b>SVM con kernel RBF</b>\n",
    "<br>http://scikit-learn.org/stable/modules/grid_search.html\n",
    "<br>http://scikit-learn.org/stable/auto_examples/model_selection/grid_search_digits.html#sphx-glr-auto-examples-model-selection-grid-search-digits-py\n",
    "<br><b> Este procesamiento debe realizarse sobre el Train, y en base a los mejores parámetros obtener el 'accuracy' con el Test</b>"
   ]
  },
  {
   "cell_type": "code",
   "execution_count": 63,
   "metadata": {
    "collapsed": false
   },
   "outputs": [
    {
     "name": "stdout",
     "output_type": "stream",
     "text": [
      "Fitting 2 folds for each of 6 candidates, totalling 12 fits\n",
      "[CV] kernel=rbf, C=1, gamma=0.01 .....................................\n",
      "[CV] ...................... kernel=rbf, C=1, gamma=0.01, total= 1.5min\n",
      "[CV] kernel=rbf, C=1, gamma=0.01 .....................................\n"
     ]
    },
    {
     "name": "stderr",
     "output_type": "stream",
     "text": [
      "[Parallel(n_jobs=1)]: Done   1 out of   1 | elapsed:  2.3min remaining:    0.0s\n"
     ]
    },
    {
     "name": "stdout",
     "output_type": "stream",
     "text": [
      "[CV] ...................... kernel=rbf, C=1, gamma=0.01, total= 1.6min\n",
      "[CV] kernel=rbf, C=1, gamma=0.001 ....................................\n",
      "[CV] ..................... kernel=rbf, C=1, gamma=0.001, total= 1.6min\n",
      "[CV] kernel=rbf, C=1, gamma=0.001 ....................................\n",
      "[CV] ..................... kernel=rbf, C=1, gamma=0.001, total= 1.6min\n",
      "[CV] kernel=rbf, C=1, gamma=0.0001 ...................................\n",
      "[CV] .................... kernel=rbf, C=1, gamma=0.0001, total= 1.5min\n",
      "[CV] kernel=rbf, C=1, gamma=0.0001 ...................................\n",
      "[CV] .................... kernel=rbf, C=1, gamma=0.0001, total= 1.6min\n",
      "[CV] kernel=rbf, C=10, gamma=0.01 ....................................\n",
      "[CV] ..................... kernel=rbf, C=10, gamma=0.01, total=  54.5s\n",
      "[CV] kernel=rbf, C=10, gamma=0.01 ....................................\n",
      "[CV] ..................... kernel=rbf, C=10, gamma=0.01, total=  57.6s\n",
      "[CV] kernel=rbf, C=10, gamma=0.001 ...................................\n",
      "[CV] .................... kernel=rbf, C=10, gamma=0.001, total= 1.4min\n",
      "[CV] kernel=rbf, C=10, gamma=0.001 ...................................\n",
      "[CV] .................... kernel=rbf, C=10, gamma=0.001, total= 1.4min\n",
      "[CV] kernel=rbf, C=10, gamma=0.0001 ..................................\n",
      "[CV] ................... kernel=rbf, C=10, gamma=0.0001, total= 1.4min\n",
      "[CV] kernel=rbf, C=10, gamma=0.0001 ..................................\n",
      "[CV] ................... kernel=rbf, C=10, gamma=0.0001, total= 1.5min\n"
     ]
    },
    {
     "name": "stderr",
     "output_type": "stream",
     "text": [
      "[Parallel(n_jobs=1)]: Done  12 out of  12 | elapsed: 25.3min finished\n"
     ]
    },
    {
     "data": {
      "text/plain": [
       "0.84896000000000005"
      ]
     },
     "execution_count": 63,
     "metadata": {},
     "output_type": "execute_result"
    }
   ],
   "source": [
    "from sklearn.svm import SVC\n",
    "from sklearn.model_selection import GridSearchCV\n",
    "# Solución\n",
    "parameters = {'kernel':['rbf'], 'C':[1, 10], 'gamma': [0.01, 0.001, 0.0001]}\n",
    "svr = SVC(random_state = 1)\n",
    "clf = GridSearchCV(svr, parameters, verbose = 2, cv = 2)\n",
    "clf.fit(X2_train, y2_train)\n",
    "clf.score(X2_test, y2_test)"
   ]
  },
  {
   "cell_type": "markdown",
   "metadata": {},
   "source": [
    "### <font color=\"darkred\">Si algún resultado supera el 90% de accuracy: +1punto (bonus)"
   ]
  }
 ],
 "metadata": {
  "anaconda-cloud": {},
  "kernelspec": {
   "display_name": "Python 3",
   "language": "python",
   "name": "python3"
  },
  "language_info": {
   "codemirror_mode": {
    "name": "ipython",
    "version": 3
   },
   "file_extension": ".py",
   "mimetype": "text/x-python",
   "name": "python",
   "nbconvert_exporter": "python",
   "pygments_lexer": "ipython3",
   "version": "3.6.0"
  }
 },
 "nbformat": 4,
 "nbformat_minor": 2
}
